{
 "cells": [
  {
   "cell_type": "code",
   "execution_count": null,
   "metadata": {},
   "outputs": [],
   "source": [
    "apikey = \"gBFRLEGT1jevJOp7tbDgUUj2r9S3JZc3DU1Dqqf7zL1VGt4ZoCAvCVwoQHPcobCk\"\n",
    "secretKey = \"w4C9Z06qAfbpEyS0sde4dHK4cB6DfQpqKadyzaYTzV3Kvf1FXVSTawBYlgxqj5vz\""
   ]
  }
 ],
 "metadata": {
  "interpreter": {
   "hash": "9e0c915f5391b2fa128e6e20f64ace030e48f640e52b13757832dc4bda12111e"
  },
  "kernelspec": {
   "display_name": "Python 3.8.5 64-bit ('base': conda)",
   "name": "python3"
  },
  "language_info": {
   "name": "python",
   "version": "3.8.5"
  },
  "orig_nbformat": 4
 },
 "nbformat": 4,
 "nbformat_minor": 2
}
